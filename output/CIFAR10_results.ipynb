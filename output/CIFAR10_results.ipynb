{
 "cells": [
  {
   "cell_type": "code",
   "execution_count": 187,
   "id": "dress-finding",
   "metadata": {
    "id": "dress-finding"
   },
   "outputs": [],
   "source": [
    "import glob\n",
    "import os\n",
    "import csv\n",
    "import numpy as np\n",
    "import pandas as pd"
   ]
  },
  {
   "cell_type": "code",
   "execution_count": null,
   "outputs": [],
   "source": [
    "# CAUTION: Need user input\n",
    "metric = 'acc'\n",
    "# metric = 'auc'\n",
    "\n",
    "exp_prefixes = [\"random\", \"entropy\", \"margin\", \"bald\", \"coreset\"]\n",
    "init_prefixes = [\"hard\", \"easy\", \"gt_easy\", \"consistency\", \"uncertainty\", \"margin\", \"bald\", \"vaal\", \"coreset\"]\n",
    "# dataset_name = 'BLOODMNIST'\n",
    "# dataset_name = 'ORGANAMNIST'\n",
    "dataset_name = 'PATHMNIST'\n",
    "output_path = './{}/'.format(dataset_name)\n",
    "model = 'resnet18'\n",
    "output_file_name = f'{dataset_name}_{model}_{metric}_ALL.csv'\n",
    "init_num = '20'"
   ],
   "metadata": {
    "collapsed": false,
    "pycharm": {
     "name": "#%%\n"
    }
   }
  },
  {
   "cell_type": "code",
   "execution_count": null,
   "outputs": [],
   "source": [
    "exp_list = []\n",
    "for exp in exp_prefixes:\n",
    "    for init in init_prefixes:\n",
    "        exp_list.extend(glob.glob(os.path.join(output_path, model, '{}_{}_{}_*').format(init, init_num, exp)))"
   ],
   "metadata": {
    "collapsed": false,
    "pycharm": {
     "name": "#%%\n"
    }
   }
  },
  {
   "cell_type": "code",
   "execution_count": null,
   "outputs": [],
   "source": [
    "exp_list[0]"
   ],
   "metadata": {
    "collapsed": false,
    "pycharm": {
     "name": "#%%\n"
    }
   }
  },
  {
   "cell_type": "code",
   "execution_count": null,
   "outputs": [],
   "source": [
    "def exp_to_init_method(exp):\n",
    "    exp = exp.split('/')[-1]\n",
    "    exp = exp.split('_')[0]+'_'+exp.split('_')[1]\n",
    "\n",
    "    if 'hard' in exp:\n",
    "        return 'Hard-to-Contrast'\n",
    "    elif 'easy' in exp and 'gt' not in exp:\n",
    "        return 'Easy-to-Contrast'\n",
    "    elif 'gt_easy' in exp:\n",
    "        return 'Easy-to-Learn'\n",
    "    elif 'consistency' in exp:\n",
    "        return 'Consistency'\n",
    "    elif 'uncertainty' in exp:\n",
    "        return 'Entropy'\n",
    "    elif 'margin' in exp:\n",
    "        return 'Margin'\n",
    "    elif 'bald' in exp:\n",
    "        return 'BALD'\n",
    "    elif 'vaal' in exp:\n",
    "        return 'VAAL'\n",
    "    elif 'coreset' in exp:\n",
    "        return 'Coreset'\n",
    "    else:\n",
    "        return 'Random'\n",
    "\n",
    "def exp_to_al_method(exp):\n",
    "    exp = exp.split('_')[-2]\n",
    "\n",
    "    if 'random' in exp:\n",
    "        return 'Random'\n",
    "    elif 'entropy' in exp:\n",
    "        return 'Entropy'\n",
    "    elif 'margin' in exp:\n",
    "        return 'Margin'\n",
    "    elif 'bald' in exp:\n",
    "        return 'BALD'\n",
    "    elif 'coreset' in exp:\n",
    "        return 'Coreset'\n",
    "    else:\n",
    "        return 'Random'"
   ],
   "metadata": {
    "collapsed": false,
    "pycharm": {
     "name": "#%%\n"
    }
   }
  },
  {
   "cell_type": "code",
   "execution_count": null,
   "outputs": [],
   "source": [
    "# columns = ['Method', 'Init_Method', 'AL_Method', '0', '1', '2', '3', '4', '5']\n",
    "columns = ['Method', 'Init_Method', 'AL_Method', '0', '1', '2', '3', '4', '5', '6', '7', '8', '9', '10']\n",
    "data = []"
   ],
   "metadata": {
    "collapsed": false,
    "pycharm": {
     "name": "#%%\n"
    }
   }
  },
  {
   "cell_type": "code",
   "execution_count": null,
   "outputs": [],
   "source": [
    "for exp in exp_list:\n",
    "    file_name = 'plot_episode_yvalues.txt' if metric is 'acc' else 'plot_episode_yvalues_auc.txt'\n",
    "    file_path = os.path.join(exp, file_name)\n",
    "    file = open(file_path, \"r\")\n",
    "    values = file.readlines()\n",
    "    values = [float(v[:-1]) for v in values]\n",
    "    if metric is 'auc':\n",
    "        values = [v * 100 for v in values]\n",
    "    values.insert(0, exp_to_al_method(exp))\n",
    "    values.insert(0, exp_to_init_method(exp))\n",
    "    values.insert(0, f'{exp_to_init_method(exp)}_{exp_to_al_method(exp)}')\n",
    "    data.append(values)"
   ],
   "metadata": {
    "collapsed": false,
    "pycharm": {
     "name": "#%%\n"
    }
   }
  },
  {
   "cell_type": "code",
   "execution_count": null,
   "outputs": [],
   "source": [
    "df = pd.DataFrame(data, columns = columns)"
   ],
   "metadata": {
    "collapsed": false,
    "pycharm": {
     "name": "#%%\n"
    }
   }
  },
  {
   "cell_type": "code",
   "execution_count": null,
   "outputs": [],
   "source": [
    "df"
   ],
   "metadata": {
    "collapsed": false,
    "pycharm": {
     "name": "#%%\n"
    }
   }
  },
  {
   "cell_type": "code",
   "execution_count": null,
   "outputs": [],
   "source": [
    "df.to_csv(f'df_{output_file_name}', index=False)"
   ],
   "metadata": {
    "collapsed": false,
    "pycharm": {
     "name": "#%%\n"
    }
   }
  },
  {
   "cell_type": "code",
   "execution_count": null,
   "outputs": [],
   "source": [
    "len(set(df.Method))"
   ],
   "metadata": {
    "collapsed": false,
    "pycharm": {
     "name": "#%%\n"
    }
   }
  },
  {
   "cell_type": "code",
   "execution_count": null,
   "outputs": [],
   "source": [
    "data2 = []\n",
    "for exp in exp_list:\n",
    "    file_name = 'plot_episode_yvalues.txt' if metric is 'acc' else 'plot_episode_yvalues_auc.txt'\n",
    "    file_path = os.path.join(exp, file_name)\n",
    "    file = open(file_path, \"r\")\n",
    "    values = file.readlines()\n",
    "    values = [float(v[:-1]) for v in values]\n",
    "    if metric is 'auc':\n",
    "        values = [v * 100 for v in values]\n",
    "    data_tuple = []\n",
    "    method = f'{exp_to_init_method(exp)}_{exp_to_al_method(exp)}'\n",
    "    for idx in range(len(values)):\n",
    "        data_tuple.append([method, exp_to_init_method(exp), exp_to_al_method(exp), idx, values[idx]])\n",
    "    data2.extend(data_tuple)"
   ],
   "metadata": {
    "collapsed": false,
    "pycharm": {
     "name": "#%%\n"
    }
   }
  },
  {
   "cell_type": "code",
   "execution_count": null,
   "outputs": [],
   "source": [
    "df2 = pd.DataFrame(data2, columns=['Method', 'Init_Method', 'AL_Method', 'Episode', 'TestAccuracy'])\n",
    "df2.Episode = df2.Episode.apply(lambda x: int((x+1)*10))"
   ],
   "metadata": {
    "collapsed": false,
    "pycharm": {
     "name": "#%%\n"
    }
   }
  },
  {
   "cell_type": "code",
   "execution_count": null,
   "outputs": [],
   "source": [
    "df2.to_csv(f'df2_{output_file_name}', index=False)"
   ],
   "metadata": {
    "collapsed": false,
    "pycharm": {
     "name": "#%%\n"
    }
   }
  },
  {
   "cell_type": "code",
   "execution_count": null,
   "outputs": [],
   "source": [
    "df2"
   ],
   "metadata": {
    "collapsed": false,
    "pycharm": {
     "name": "#%%\n"
    }
   }
  },
  {
   "cell_type": "code",
   "execution_count": null,
   "outputs": [],
   "source": [
    "df2.to_csv(f'df_{output_file_name}', index=False)"
   ],
   "metadata": {
    "collapsed": false,
    "pycharm": {
     "name": "#%%\n"
    }
   }
  },
  {
   "cell_type": "code",
   "execution_count": null,
   "outputs": [],
   "source": [
    "import matplotlib.pyplot as plt\n",
    "import seaborn as sns\n",
    "sns.set()\n",
    "\n",
    "import matplotlib as mpl\n",
    "mpl.rcParams.update(mpl.rcParamsDefault)\n",
    "\n",
    "# df2 = pd.read_csv(\"VIKAS_CIFAR10.csv\")"
   ],
   "metadata": {
    "collapsed": false,
    "pycharm": {
     "name": "#%%\n"
    }
   }
  },
  {
   "cell_type": "code",
   "execution_count": null,
   "outputs": [],
   "source": [
    "len(set(df2.Method))"
   ],
   "metadata": {
    "collapsed": false,
    "pycharm": {
     "name": "#%%\n"
    }
   }
  },
  {
   "cell_type": "code",
   "execution_count": null,
   "outputs": [],
   "source": [
    "import warnings\n",
    "warnings.filterwarnings('ignore')\n",
    "\n",
    "from matplotlib import rc\n",
    "rc('font',**{'family':'sans-serif','sans-serif':['Arial']})\n",
    "rc('text', usetex=True)\n",
    "\n",
    "plt.rcParams[\"axes.labelweight\"] = \"normal\"\n",
    "plt.rcParams[\"font.weight\"] = \"normal\"\n",
    "\n",
    "sns.set_style(\"ticks\")"
   ],
   "metadata": {
    "collapsed": false,
    "pycharm": {
     "name": "#%%\n"
    }
   }
  },
  {
   "cell_type": "code",
   "execution_count": null,
   "outputs": [],
   "source": [
    "def export_legend(legend, filename=\"legend.png\"):\n",
    "    fig  = legend.figure\n",
    "    fig.canvas.draw()\n",
    "    bbox  = legend.get_window_extent().transformed(fig.dpi_scale_trans.inverted())\n",
    "    fig.savefig(filename, dpi=\"figure\", bbox_inches=bbox)"
   ],
   "metadata": {
    "collapsed": false,
    "pycharm": {
     "name": "#%%\n"
    }
   }
  },
  {
   "cell_type": "code",
   "execution_count": null,
   "outputs": [],
   "source": [
    "len(set(df2.Init_Method))"
   ],
   "metadata": {
    "collapsed": false,
    "pycharm": {
     "name": "#%%\n"
    }
   }
  },
  {
   "cell_type": "code",
   "execution_count": null,
   "outputs": [],
   "source": [
    "df2.Init_Method.value_counts()"
   ],
   "metadata": {
    "collapsed": false,
    "pycharm": {
     "name": "#%%\n"
    }
   }
  },
  {
   "cell_type": "code",
   "execution_count": null,
   "outputs": [],
   "source": [
    "len(['black', 'red', 'springgreen',  'dodgerblue', 'peru', 'hotpink', 'blue', 'peru', 'purple'])"
   ],
   "metadata": {
    "collapsed": false,
    "pycharm": {
     "name": "#%%\n"
    }
   }
  },
  {
   "cell_type": "code",
   "execution_count": null,
   "outputs": [],
   "source": [
    "df2"
   ],
   "metadata": {
    "collapsed": false,
    "pycharm": {
     "name": "#%%\n"
    }
   }
  },
  {
   "cell_type": "code",
   "execution_count": null,
   "outputs": [],
   "source": [
    "al_methods = ['Random','Entropy','Margin','BALD', 'Coreset']\n",
    "# display_methods= ['Random','Least Confidence (LC)','Max-Entropy (ME)','Min-Margin (MM)', 'ENS-varR','Coreset','VAAL', 'DBAL']\n",
    "display_methods= al_methods\n",
    "colors = ['blue', 'red', 'springgreen',  'dodgerblue', 'peru', 'hotpink', 'cyan', 'black', 'purple', 'grey']\n",
    "colors = colors[:len(set(df2.Init_Method))]\n",
    "\n",
    "for index in range(len(al_methods)):\n",
    "    print(index)\n",
    "#     if index != 6:\n",
    "#         continue\n",
    "    fig, ax = plt.subplots(figsize=(6,6))\n",
    "    al_method = al_methods[index]\n",
    "    axin2_ylims = {0:[90,91.5],1:[91,93], 2:[91,93], 3:[91,93], 4:[90,93], 5:[91,93], 6:[89,91.5], 7:[91,92]}\n",
    "    axin_ylims = {0:[73.5,77],1:[74,77], 2:[73.2,77], 3:[73.5,77], 4:[71.9,76], 5:[72.5,77], 6:[73.5,77], 7:[72,76]}\n",
    "\n",
    "    sns.set(rc={\"lines.linewidth\": 2})\n",
    "    sns.set_style(\"ticks\")\n",
    "\n",
    "    sns.lineplot(x=\"Episode\", y=\"TestAccuracy\", hue=\"Init_Method\", data=df2.loc[df2.AL_Method.isin([al_method]),:], \\\n",
    "                 ax=ax, palette=colors, linewidth = 3, legend=False)\n",
    "    ax.set_xlabel('Images Labeled', size = 22, fontweight='bold')\n",
    "    ylabel = 'Test Accuracy' if metric is 'acc' else 'Test AUC'\n",
    "    ax.set_ylabel(ylabel, size = 22, fontweight='bold')\n",
    "\n",
    "    ax.patch.set_edgecolor('black')  \n",
    "    ax.patch.set_linewidth('2')\n",
    "\n",
    "#     ax.set_xlabel('Labeled %', size = 20)\n",
    "#     ax.set_ylabel('Test Accuracy', size = 20)\n",
    "    ax.set_title(display_methods[index], size = 30)\n",
    "    \n",
    "    # ax.get_legend().set_title(\"Initial Pool Sampling Method\")\n",
    "    # plt.setp(ax.get_legend().get_texts(), fontsize='15') # for legend text\n",
    "    # plt.setp(ax.get_legend().get_title(), fontsize='15') # for legend title\n",
    "    \n",
    "    # ax.set_yticklabels(ax.get_yticks(), size = 15, fontweight='bold')\n",
    "    # ax.set_xticklabels(ax.get_xticks(), size = 15, fontweight='bold')\n",
    "\n",
    "    x_labels = [str(t) for t in np.arange(20,130,10)]\n",
    "    x_vals = np.arange(10,120,10)\n",
    "\n",
    "    xticks = ax.set_xticks(x_vals)\n",
    "    ax.set_xticklabels(x_labels)\n",
    "    ax.set_xticklabels(x_labels, size = 20)\n",
    "    # ax.set_xticklabels(ax.get_xticks(), size = 20)\n",
    "    ax.set_yticklabels(ax.get_yticks(), size = 20)  \n",
    "\n",
    "    # import pdb; pdb.set_trace()\n",
    "\n",
    "#     \n",
    "\n",
    "    # # COMMENT THIS BELOW PORTION AFTER RUNNING IT ONCE\n",
    "    # ax.legend(loc='upper left', shadow=True, markerscale=1, ncol=1, prop={'size': 25})\n",
    "    # leg = plt.legend(bbox_to_anchor=(6, 6), loc=2, borderaxespad=0., prop={'size': 25}, markerscale=2)\n",
    "    # leg.get_frame().set_edgecolor('black')\n",
    "    # export_legend(leg, \"legend.pdf\")\n",
    "\n",
    "    # handles positioning of the zoomed image\n",
    "\n",
    "    # axins = ax.inset_axes([0.27, 0.1, 0.3, 0.3])\n",
    "\n",
    "    # # sub region of the original image\n",
    "    # x1, x2, y1, y2 = 9, 12, axin_ylims[index][0], axin_ylims[index][1]\n",
    "    # axins.set_xlim(x1, x2)\n",
    "    # axins.set_ylim(y1, y2)\n",
    "    # sns.lineplot(x=\"Episode\", y=\"TestAccuracy\", hue=\"Init_Method\", data=df2.loc[df2.AL_Method.isin([al_method]),:], \\\n",
    "    #              ax=axins, legend=False, palette=colors, linewidth = 3)\n",
    "    # axins.set_xlabel(\"\")\n",
    "    # axins.set_ylabel(\"\")\n",
    "    # axins.set_xticklabels('')\n",
    "    # axins.set_yticklabels([str(round(float(label), 1)) for label in axins.get_yticks()])\n",
    "    # # axins.set_yticklabels('')\n",
    "    # axins.patch.set_edgecolor('black')  \n",
    "    # axins.patch.set_linewidth('1') \n",
    "    # axins.tick_params(axis = \"x\", which = \"both\", bottom = False, top = False)\n",
    "    # ax.indicate_inset_zoom(axins, edgecolor=\"black\")\n",
    "\n",
    "    # #################################################\n",
    "\n",
    "    # axins2 = ax.inset_axes([0.68, 0.4, 0.3, 0.3])\n",
    "    # # sub region of the original image\n",
    "    # x1, x2, y1, y2 = 59, 61, axin2_ylims[index][0], axin2_ylims[index][1]\n",
    "    # axins2.set_xlim(x1, x2)\n",
    "    # axins2.set_ylim(y1, y2)\n",
    "    # ax.indicate_inset_zoom(axins2, edgecolor=\"black\")\n",
    "    # sns.lineplot(x=\"Episode\", y=\"TestAccuracy\", hue=\"Init_Method\", data=df2.loc[df2.AL_Method.isin([al_method]),:],\\\n",
    "    #              ax=axins2, legend=False, palette=colors, linewidth=3)\n",
    "    # axins2.set_xlabel(\"\")\n",
    "    # axins2.set_ylabel(\"\")\n",
    "    # axins2.set_xticklabels('')\n",
    " \n",
    "    # axins2.set_yticklabels([str(round(float(label), 1)) for label in axins2.get_yticks()])\n",
    "    # # axins2.set_yticklabels('')\n",
    "    # axins2.patch.set_edgecolor('black')  \n",
    "    # axins2.patch.set_linewidth('1')\n",
    "    # axins2.tick_params(axis = \"x\", which = \"both\", bottom = False, top = False)\n",
    "\n",
    "    # ax.indicate_inset_zoom(axins2, edgecolor=\"black\")\n",
    "\n",
    "\n",
    "    plt.savefig(f'./figures/{dataset_name}_{al_methods[index]}_{metric}.pdf', dpi=500, format='pdf', bbox_inches = \"tight\")\n",
    "    plt.savefig(f'./figures/pngs/{dataset_name}_{al_methods[index]}_{metric}.png', dpi=500, format='png', bbox_inches = \"tight\")\n",
    "    \n",
    "    plt.show()"
   ],
   "metadata": {
    "collapsed": false,
    "pycharm": {
     "name": "#%%\n"
    }
   }
  }
 ],
 "metadata": {
  "colab": {
   "collapsed_sections": [],
   "name": "CIFAR10_results.ipynb",
   "provenance": [],
   "toc_visible": true
  },
  "kernelspec": {
   "display_name": "Python 3.7.7 ('al-ssl')",
   "language": "python",
   "name": "python3"
  },
  "language_info": {
   "codemirror_mode": {
    "name": "ipython",
    "version": 3
   },
   "file_extension": ".py",
   "mimetype": "text/x-python",
   "name": "python",
   "nbconvert_exporter": "python",
   "pygments_lexer": "ipython3",
   "version": "3.7.7"
  },
  "vscode": {
   "interpreter": {
    "hash": "53a9d4d22fa35575c28c5dc8c98624dd337ea1101f8be5c652cfbc910b18724b"
   }
  }
 },
 "nbformat": 4,
 "nbformat_minor": 5
}