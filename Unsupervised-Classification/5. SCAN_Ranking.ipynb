{
 "cells": [
  {
   "cell_type": "markdown",
   "id": "hollywood-sunday",
   "metadata": {},
   "source": [
    "### Set GPU"
   ]
  },
  {
   "cell_type": "code",
   "execution_count": 34,
   "id": "needed-aurora",
   "metadata": {},
   "outputs": [],
   "source": [
    "import os\n",
    "os.environ['CUDA_VISIBLE_DEVICES'] = \"3\""
   ]
  },
  {
   "cell_type": "markdown",
   "id": "organic-camera",
   "metadata": {},
   "source": [
    "## Set Dataset Name"
   ]
  },
  {
   "cell_type": "code",
   "execution_count": 35,
   "id": "fourth-compression",
   "metadata": {},
   "outputs": [],
   "source": [
    "dataset_name = 'CIFAR10'\n",
    "# dataset_name = 'CIFAR100'\n",
    "# dataset_name = 'MNIST'\n",
    "# dataset_name = 'TINYIMAGENET'\n",
    "# dataset_name = 'IMBALANCED_CIFAR10'"
   ]
  },
  {
   "cell_type": "markdown",
   "id": "genetic-falls",
   "metadata": {},
   "source": [
    "### Run All Now"
   ]
  },
  {
   "cell_type": "code",
   "execution_count": 36,
   "id": "governing-testimony",
   "metadata": {},
   "outputs": [],
   "source": [
    "# from models.resnet_stl import resnet18\n",
    "import torch\n",
    "import numpy as np\n",
    "from tqdm import tqdm\n",
    "\n",
    "from models.resnet_cifar import resnet18\n",
    "from utils.memory import MemoryBank\n",
    "from utils.train_utils import simclr_train\n",
    "from utils.utils import fill_memory_bank\n",
    "from utils.config import create_config\n",
    "from utils.common_config import get_model, get_train_dataset, get_val_transformations, get_train_dataloader\n",
    "from utils.evaluate_utils import hungarian_evaluate2, scan_evaluate, get_predictions"
   ]
  },
  {
   "cell_type": "code",
   "execution_count": 37,
   "id": "environmental-trade",
   "metadata": {},
   "outputs": [],
   "source": [
    "output_folder = '../results/'\n",
    "if dataset_name == \"CIFAR10\":\n",
    "    output_folder += 'cifar-10/'\n",
    "    config_exp_path = './configs/scan/scan_cifar10.yml'\n",
    "    cfg_path = 'configs/CIFAR10_RESNET18.yaml'\n",
    "elif dataset_name == \"CIFAR100\":\n",
    "    output_folder += 'cifar-20/'\n",
    "    config_exp_path = './configs/scan/scan_cifar20.yml'\n",
    "    cfg_path = 'configs/CIFAR100_RESNET18.yaml'\n",
    "elif dataset_name == \"MNIST\":\n",
    "    output_folder += 'mnist/'\n",
    "    config_exp_path = './configs/scan/scan_mnist.yml'\n",
    "    cfg_path = 'configs/MNIST_RESNET18.yaml'\n",
    "elif dataset_name == \"TINYIMAGENET\":\n",
    "    output_folder += 'tinyimagenet/'\n",
    "    config_exp_path = './configs/scan/scan_tinyimagenet.yml'\n",
    "    cfg_path = 'configs/TINYIMAGENET_RESNET18.yaml'\n",
    "elif dataset_name == 'IMBALANCED_CIFAR10':\n",
    "    output_folder += 'imbalanced-cifar-10/'\n",
    "    config_exp_path = './configs/scan/scan_cifar10_im.yml'\n",
    "    cfg_path = 'configs/CIFAR10_RESNET18.yaml'\n",
    "    \n",
    "path_to_model = output_folder + 'scan/model.pth.tar'\n",
    "\n",
    "state_dict = temp = torch.load(path_to_model)"
   ]
  },
  {
   "cell_type": "code",
   "execution_count": 38,
   "id": "cordless-norfolk",
   "metadata": {},
   "outputs": [],
   "source": [
    "import argparse\n",
    "\n",
    "config_env_path = './configs/env.yml'\n",
    "config = p = create_config(config_env_path, config_exp_path)"
   ]
  },
  {
   "cell_type": "code",
   "execution_count": 39,
   "id": "faced-montgomery",
   "metadata": {},
   "outputs": [
    {
     "output_type": "execute_result",
     "data": {
      "text/plain": [
       "ClusteringModel(\n",
       "  (backbone): ResNet(\n",
       "    (conv1): Conv2d(3, 64, kernel_size=(3, 3), stride=(1, 1), padding=(1, 1), bias=False)\n",
       "    (bn1): BatchNorm2d(64, eps=1e-05, momentum=0.1, affine=True, track_running_stats=True)\n",
       "    (relu): ReLU(inplace=True)\n",
       "    (maxpool): MaxPool2d(kernel_size=2, stride=2, padding=1, dilation=1, ceil_mode=False)\n",
       "    (layer1): Sequential(\n",
       "      (0): BasicBlock(\n",
       "        (conv1): Conv2d(64, 64, kernel_size=(3, 3), stride=(1, 1), padding=(1, 1), bias=False)\n",
       "        (bn1): BatchNorm2d(64, eps=1e-05, momentum=0.1, affine=True, track_running_stats=True)\n",
       "        (relu): ReLU(inplace=True)\n",
       "        (conv2): Conv2d(64, 64, kernel_size=(3, 3), stride=(1, 1), padding=(1, 1), bias=False)\n",
       "        (bn2): BatchNorm2d(64, eps=1e-05, momentum=0.1, affine=True, track_running_stats=True)\n",
       "      )\n",
       "      (1): BasicBlock(\n",
       "        (conv1): Conv2d(64, 64, kernel_size=(3, 3), stride=(1, 1), padding=(1, 1), bias=False)\n",
       "        (bn1): BatchNorm2d(64, eps=1e-05, momentum=0.1, affine=True, track_running_stats=True)\n",
       "        (relu): ReLU(inplace=True)\n",
       "        (conv2): Conv2d(64, 64, kernel_size=(3, 3), stride=(1, 1), padding=(1, 1), bias=False)\n",
       "        (bn2): BatchNorm2d(64, eps=1e-05, momentum=0.1, affine=True, track_running_stats=True)\n",
       "      )\n",
       "    )\n",
       "    (layer2): Sequential(\n",
       "      (0): BasicBlock(\n",
       "        (conv1): Conv2d(64, 128, kernel_size=(3, 3), stride=(2, 2), padding=(1, 1), bias=False)\n",
       "        (bn1): BatchNorm2d(128, eps=1e-05, momentum=0.1, affine=True, track_running_stats=True)\n",
       "        (relu): ReLU(inplace=True)\n",
       "        (conv2): Conv2d(128, 128, kernel_size=(3, 3), stride=(1, 1), padding=(1, 1), bias=False)\n",
       "        (bn2): BatchNorm2d(128, eps=1e-05, momentum=0.1, affine=True, track_running_stats=True)\n",
       "        (downsample): Sequential(\n",
       "          (0): Conv2d(64, 128, kernel_size=(1, 1), stride=(2, 2), bias=False)\n",
       "          (1): BatchNorm2d(128, eps=1e-05, momentum=0.1, affine=True, track_running_stats=True)\n",
       "        )\n",
       "      )\n",
       "      (1): BasicBlock(\n",
       "        (conv1): Conv2d(128, 128, kernel_size=(3, 3), stride=(1, 1), padding=(1, 1), bias=False)\n",
       "        (bn1): BatchNorm2d(128, eps=1e-05, momentum=0.1, affine=True, track_running_stats=True)\n",
       "        (relu): ReLU(inplace=True)\n",
       "        (conv2): Conv2d(128, 128, kernel_size=(3, 3), stride=(1, 1), padding=(1, 1), bias=False)\n",
       "        (bn2): BatchNorm2d(128, eps=1e-05, momentum=0.1, affine=True, track_running_stats=True)\n",
       "      )\n",
       "    )\n",
       "    (layer3): Sequential(\n",
       "      (0): BasicBlock(\n",
       "        (conv1): Conv2d(128, 256, kernel_size=(3, 3), stride=(2, 2), padding=(1, 1), bias=False)\n",
       "        (bn1): BatchNorm2d(256, eps=1e-05, momentum=0.1, affine=True, track_running_stats=True)\n",
       "        (relu): ReLU(inplace=True)\n",
       "        (conv2): Conv2d(256, 256, kernel_size=(3, 3), stride=(1, 1), padding=(1, 1), bias=False)\n",
       "        (bn2): BatchNorm2d(256, eps=1e-05, momentum=0.1, affine=True, track_running_stats=True)\n",
       "        (downsample): Sequential(\n",
       "          (0): Conv2d(128, 256, kernel_size=(1, 1), stride=(2, 2), bias=False)\n",
       "          (1): BatchNorm2d(256, eps=1e-05, momentum=0.1, affine=True, track_running_stats=True)\n",
       "        )\n",
       "      )\n",
       "      (1): BasicBlock(\n",
       "        (conv1): Conv2d(256, 256, kernel_size=(3, 3), stride=(1, 1), padding=(1, 1), bias=False)\n",
       "        (bn1): BatchNorm2d(256, eps=1e-05, momentum=0.1, affine=True, track_running_stats=True)\n",
       "        (relu): ReLU(inplace=True)\n",
       "        (conv2): Conv2d(256, 256, kernel_size=(3, 3), stride=(1, 1), padding=(1, 1), bias=False)\n",
       "        (bn2): BatchNorm2d(256, eps=1e-05, momentum=0.1, affine=True, track_running_stats=True)\n",
       "      )\n",
       "    )\n",
       "    (layer4): Sequential(\n",
       "      (0): BasicBlock(\n",
       "        (conv1): Conv2d(256, 512, kernel_size=(3, 3), stride=(2, 2), padding=(1, 1), bias=False)\n",
       "        (bn1): BatchNorm2d(512, eps=1e-05, momentum=0.1, affine=True, track_running_stats=True)\n",
       "        (relu): ReLU(inplace=True)\n",
       "        (conv2): Conv2d(512, 512, kernel_size=(3, 3), stride=(1, 1), padding=(1, 1), bias=False)\n",
       "        (bn2): BatchNorm2d(512, eps=1e-05, momentum=0.1, affine=True, track_running_stats=True)\n",
       "        (downsample): Sequential(\n",
       "          (0): Conv2d(256, 512, kernel_size=(1, 1), stride=(2, 2), bias=False)\n",
       "          (1): BatchNorm2d(512, eps=1e-05, momentum=0.1, affine=True, track_running_stats=True)\n",
       "        )\n",
       "      )\n",
       "      (1): BasicBlock(\n",
       "        (conv1): Conv2d(512, 512, kernel_size=(3, 3), stride=(1, 1), padding=(1, 1), bias=False)\n",
       "        (bn1): BatchNorm2d(512, eps=1e-05, momentum=0.1, affine=True, track_running_stats=True)\n",
       "        (relu): ReLU(inplace=True)\n",
       "        (conv2): Conv2d(512, 512, kernel_size=(3, 3), stride=(1, 1), padding=(1, 1), bias=False)\n",
       "        (bn2): BatchNorm2d(512, eps=1e-05, momentum=0.1, affine=True, track_running_stats=True)\n",
       "      )\n",
       "    )\n",
       "    (avgpool): AdaptiveAvgPool2d(output_size=(1, 1))\n",
       "  )\n",
       "  (cluster_head): ModuleList(\n",
       "    (0): Linear(in_features=512, out_features=10, bias=True)\n",
       "  )\n",
       ")"
      ]
     },
     "metadata": {},
     "execution_count": 39
    }
   ],
   "source": [
    "model = get_model(p)\n",
    "model.load_state_dict(temp['model'])\n",
    "model.eval()\n",
    "model.cuda()"
   ]
  },
  {
   "source": [
    "train_data = get_train_dataset(p, get_val_transformations(p),\n",
    "                                        split='train',to_augmented_dataset=False) \n",
    "dataloader = get_train_dataloader(p, train_data)"
   ],
   "cell_type": "code",
   "metadata": {},
   "execution_count": 40,
   "outputs": [
    {
     "output_type": "stream",
     "name": "stdout",
     "text": [
      "Files already downloaded and verified\n"
     ]
    }
   ]
  },
  {
   "cell_type": "code",
   "execution_count": 42,
   "metadata": {},
   "outputs": [],
   "source": [
    "head = state_dict['head'] if config['setup'] == 'scan' else 0\n",
    "predictions, features = get_predictions(config, dataloader, model, return_features=True)"
   ]
  },
  {
   "cell_type": "code",
   "execution_count": 79,
   "metadata": {},
   "outputs": [],
   "source": [
    "@torch.no_grad()\n",
    "def get_diff_norm(config, predictions, features, model, topk=10):\n",
    "    import torch.nn.functional as F\n",
    "\n",
    "    # Get topk most certain indices and pred labels\n",
    "    print('Get topk')\n",
    "    probs = predictions['probabilities']\n",
    "    n_classes = probs.shape[1]\n",
    "    dims = features.shape[1]\n",
    "    max_probs, pred_labels = torch.max(probs, dim = 1)\n",
    "    indices = torch.zeros((n_classes, topk))\n",
    "    for pred_id in range(n_classes):\n",
    "        probs_copy = max_probs.clone()\n",
    "        mask_out = ~(pred_labels == pred_id)\n",
    "        probs_copy[mask_out] = -1\n",
    "        conf_vals, conf_idx = torch.topk(probs_copy, k = topk, largest = True, sorted = True)\n",
    "        indices[pred_id, :] = conf_idx\n",
    "\n",
    "    # Get corresponding features\n",
    "    selected_features = torch.index_select(features, dim=0, index=indices.view(-1).long())\n",
    "    selected_features = selected_features.unsqueeze(1).view(n_classes, -1, dims)\n",
    "\n",
    "    # Get mean feature per class\n",
    "    mean_features = torch.mean(selected_features, dim=1)\n",
    "    # Get distance to mean feature\n",
    "    mean_feature_selected = torch.index_select(mean_features, dim=0,index=pred_labels.view(-1).long())\n",
    "    diff_features = features - mean_feature_selected\n",
    "    diff_norm = torch.norm(diff_features, 2, dim=1)\n",
    "\n",
    "    return diff_norm\n"
   ]
  },
  {
   "cell_type": "code",
   "execution_count": 80,
   "metadata": {
    "tags": []
   },
   "outputs": [
    {
     "output_type": "stream",
     "name": "stdout",
     "text": [
      "Get topk\n"
     ]
    }
   ],
   "source": [
    "head = state_dict['head'] if config['setup'] == 'scan' else 0\n",
    "diff_norm = get_diff_norm(config, predictions[head], features, model, topk=300)\n"
   ]
  },
  {
   "cell_type": "code",
   "execution_count": 83,
   "metadata": {},
   "outputs": [],
   "source": [
    "diff_norm = diff_norm.cpu().numpy()\n",
    "reverse_diff_norm = -diff_norm"
   ]
  },
  {
   "cell_type": "code",
   "execution_count": 93,
   "metadata": {},
   "outputs": [],
   "source": [
    "np.save(f'{output_folder}/{dataset_name}_diff_norm.npy', diff_norm)\n",
    "np.save(f'{output_folder}/{dataset_name}_reverse_diff_norm.npy', reverse_diff_norm)\n",
    "np.save(f'{output_folder}/{dataset_name}_cluster_ids.npy', pred_labels)"
   ]
  },
  {
   "cell_type": "code",
   "execution_count": 92,
   "metadata": {},
   "outputs": [
    {
     "output_type": "execute_result",
     "data": {
      "text/plain": [
       "tensor([1, 0, 5,  ..., 6, 2, 2])"
      ]
     },
     "metadata": {},
     "execution_count": 92
    }
   ],
   "source": [
    "pred_labels"
   ]
  },
  {
   "cell_type": "code",
   "execution_count": 85,
   "metadata": {},
   "outputs": [
    {
     "output_type": "execute_result",
     "data": {
      "text/plain": [
       "array([8.252473, 6.36307 , 8.988281, ..., 7.013616, 4.261198, 7.480796],\n",
       "      dtype=float32)"
      ]
     },
     "metadata": {},
     "execution_count": 85
    }
   ],
   "source": [
    "diff_norm"
   ]
  },
  {
   "cell_type": "code",
   "execution_count": 87,
   "metadata": {},
   "outputs": [
    {
     "output_type": "stream",
     "name": "stdout",
     "text": [
      "Get topk\n"
     ]
    }
   ],
   "source": [
    "topk = 300\n",
    "\n",
    "# Get topk most certain indices and pred labels\n",
    "print('Get topk')\n",
    "probs = predictions[head]['probabilities']\n",
    "n_classes = probs.shape[1]\n",
    "dims = features.shape[1]\n",
    "max_probs, pred_labels = torch.max(probs, dim = 1)\n",
    "indices = torch.zeros((n_classes, topk))\n",
    "for pred_id in range(n_classes):\n",
    "    probs_copy = max_probs.clone()\n",
    "    mask_out = ~(pred_labels == pred_id)\n",
    "    probs_copy[mask_out] = -1\n",
    "    conf_vals, conf_idx = torch.topk(probs_copy, k = topk, largest = True, sorted = True)\n",
    "    indices[pred_id, :] = conf_idx\n",
    "\n",
    "# Get corresponding features\n",
    "selected_features = torch.index_select(features, dim=0, index=indices.view(-1).long())\n",
    "selected_features = selected_features.unsqueeze(1).view(n_classes, -1, dims)\n",
    "\n",
    "# Get mean feature per class\n",
    "mean_features = torch.mean(selected_features, dim=1)\n",
    "# Get distance to mean feature\n",
    "mean_feature_selected = torch.index_select(mean_features, dim=0,index=pred_labels.view(-1).long())\n",
    "diff_features = features - mean_feature_selected\n",
    "diff_norm = torch.norm(diff_features, 2, dim=1)"
   ]
  },
  {
   "cell_type": "code",
   "execution_count": 90,
   "metadata": {},
   "outputs": [
    {
     "output_type": "execute_result",
     "data": {
      "text/plain": [
       "array([ 77, 246,   2,  84,  22,  28, 146,  31, 306,  58])"
      ]
     },
     "metadata": {},
     "execution_count": 90
    }
   ],
   "source": [
    "selected_1k = torch.argsort(diff_norm)[:1000]\n",
    "np.bincount(pred_labels[selected_1k])"
   ]
  },
  {
   "cell_type": "code",
   "execution_count": 91,
   "metadata": {},
   "outputs": [
    {
     "output_type": "execute_result",
     "data": {
      "text/plain": [
       "array([  0,   0,  15,  13, 426, 134,   0,  15,  22, 375])"
      ]
     },
     "metadata": {},
     "execution_count": 91
    }
   ],
   "source": [
    "selected_reverse_1k = torch.argsort(diff_norm)[-1000:]\n",
    "np.bincount(pred_labels[selected_reverse_1k])"
   ]
  },
  {
   "cell_type": "code",
   "execution_count": 96,
   "metadata": {},
   "outputs": [],
   "source": [
    "loss_expectation = np.load(f'{output_folder}/{dataset_name}_SimCLR_losses_10_temp_0.3.npy')"
   ]
  },
  {
   "cell_type": "code",
   "execution_count": 104,
   "metadata": {},
   "outputs": [],
   "source": [
    "losses_norm = (loss_expectation - np.mean(loss_expectation)) / np.std(loss_expectation)\n",
    "diff_norm_norm = (diff_norm.numpy() - np.mean(diff_norm.numpy())) / np.std(diff_norm.numpy())"
   ]
  },
  {
   "cell_type": "code",
   "execution_count": 107,
   "metadata": {},
   "outputs": [],
   "source": [
    "loss_weight = 0.5\n",
    "near_weight = 1 - loss_weight\n",
    "overall_score = loss_weight * losses_norm - near_weight * diff_norm_norm"
   ]
  },
  {
   "cell_type": "code",
   "execution_count": 109,
   "metadata": {},
   "outputs": [
    {
     "output_type": "execute_result",
     "data": {
      "text/plain": [
       "array([-1.00948315, -0.29201259, -0.43403473, ...,  0.50620154,\n",
       "        0.02379469, -0.22676085])"
      ]
     },
     "metadata": {},
     "execution_count": 109
    }
   ],
   "source": [
    "overall_score"
   ]
  },
  {
   "cell_type": "code",
   "execution_count": 108,
   "metadata": {},
   "outputs": [],
   "source": [
    "np.save(f'{output_folder}/{dataset_name}_SCAN_0.3_overall.npy', overall_score)"
   ]
  },
  {
   "cell_type": "code",
   "execution_count": 111,
   "metadata": {},
   "outputs": [
    {
     "output_type": "execute_result",
     "data": {
      "text/plain": [
       "array([ 50,  40,  51,  83, 309, 157,  25,  46,  49, 190])"
      ]
     },
     "metadata": {},
     "execution_count": 111
    }
   ],
   "source": [
    "selected_overall_1k = np.argsort(overall_score)[:1000]\n",
    "np.bincount(pred_labels[selected_overall_1k])"
   ]
  },
  {
   "cell_type": "markdown",
   "id": "prescription-turkey",
   "metadata": {},
   "source": [
    "### Change batch size if you run into out of memory error "
   ]
  },
  {
   "cell_type": "code",
   "execution_count": 7,
   "id": "photographic-briefs",
   "metadata": {},
   "outputs": [
    {
     "name": "stdout",
     "output_type": "stream",
     "text": [
      "Preprocess Operations Selected ==>  [RandomCrop(size=(32, 32), padding=4), ToTensor(), Normalize(mean=[0.4914, 0.4822, 0.4465], std=[0.247, 0.2435, 0.2616])]\n",
      "Files already downloaded and verified\n",
      "Train Mode: Contain 13996 images\n",
      "Files already downloaded and verified\n",
      "Test Mode: Contain 10000 images\n"
     ]
    }
   ],
   "source": [
    "from pycls.datasets.data import Data\n",
    "from pycls.config import cfg\n",
    "cfg.merge_from_file(cfg_path)\n",
    "cfg.DATASET.NAME = dataset_name\n",
    "data_obj = Data(cfg)\n",
    "\n",
    "train_data, train_size = data_obj.getDataset(save_dir='../data', isTrain=True, isDownload=True)\n",
    "trainSet = [i for i in range(train_size)]\n",
    "trainSet = np.array(trainSet, dtype=np.ndarray)\n",
    "train_dataloader = data_obj.getSequentialDataLoader(indexes=trainSet, batch_size=256, data=train_data)\n",
    "\n",
    "test_data, test_size = data_obj.getDataset(save_dir='../data', isTrain=False, isDownload=True)\n",
    "test_dataloader = data_obj.getTestLoader(data=test_data, test_batch_size=cfg.TRAIN.BATCH_SIZE, seed_id=cfg.RNG_SEED)"
   ]
  },
  {
   "cell_type": "code",
   "execution_count": 8,
   "id": "certified-refund",
   "metadata": {},
   "outputs": [],
   "source": [
    "import torch.nn.functional as F\n",
    "\n",
    "@torch.no_grad()\n",
    "def get_predictions(p, dataloader, model, return_features=False):\n",
    "    # Make predictions on a dataset with neighbors\n",
    "    model.eval()\n",
    "    predictions = [[] for _ in range(p['num_heads'])]\n",
    "    probs = [[] for _ in range(p['num_heads'])]\n",
    "    targets = []\n",
    "    if return_features:\n",
    "        ft_dim = get_feature_dimensions_backbone(p)\n",
    "        features = torch.zeros((len(dataloader.sampler), ft_dim)).cuda()\n",
    "    \n",
    "    key_ = 'image'\n",
    "\n",
    "    ptr = 0\n",
    "    for row in tqdm(dataloader, desc=\"Extracting Self Label Predictions\"):\n",
    "#         images = row['image']\n",
    "#         lbl = row['target']\n",
    "        images, lbl = row\n",
    "        images = images.cuda()\n",
    "        output = model(images, forward_pass='default')\n",
    "        for i, output_i in enumerate(output):\n",
    "            predictions[i].append(torch.argmax(output_i, dim=1))\n",
    "        targets.append(lbl)\n",
    "\n",
    "    predictions = [torch.cat(pred_, dim=0) for pred_ in predictions]\n",
    "    targets = torch.cat(targets, dim=0)\n",
    "\n",
    "    out = [{'predictions': pred_, 'targets': targets} for pred_, prob_ in zip(predictions, probs)]\n",
    "\n",
    "    if return_features:\n",
    "        return out, features.cpu()\n",
    "    else:\n",
    "        return out"
   ]
  },
  {
   "cell_type": "code",
   "execution_count": 9,
   "id": "false-starter",
   "metadata": {},
   "outputs": [],
   "source": [
    "# from utils.evaluate_utils import get_predictions"
   ]
  },
  {
   "cell_type": "code",
   "execution_count": 10,
   "id": "juvenile-sequence",
   "metadata": {},
   "outputs": [
    {
     "name": "stderr",
     "output_type": "stream",
     "text": [
      "Extracting Self Label Predictions: 100%|██████████| 55/55 [00:04<00:00, 13.52it/s]\n"
     ]
    }
   ],
   "source": [
    "predictions = get_predictions(p, train_dataloader, model)"
   ]
  },
  {
   "cell_type": "markdown",
   "id": "contained-richards",
   "metadata": {},
   "source": [
    "#### Note: Stats are irrelevant for CIFAR100"
   ]
  },
  {
   "cell_type": "code",
   "execution_count": 11,
   "id": "prospective-ghana",
   "metadata": {},
   "outputs": [],
   "source": [
    "clustering_stats = hungarian_evaluate2(0, predictions, \n",
    "                                class_names=train_data.classes,\n",
    "                                compute_confusion_matrix=False,\n",
    "                                confusion_matrix_file=os.path.join('confusion_matrix.png'))"
   ]
  },
  {
   "cell_type": "code",
   "execution_count": 12,
   "id": "optimum-owner",
   "metadata": {},
   "outputs": [
    {
     "data": {
      "text/plain": [
       "{'ACC': 0.29351243212346384,\n",
       " 'ARI': -0.012018654655578461,\n",
       " 'NMI': 0.022166544097787316,\n",
       " 'hungarian_match': [(0, 5),\n",
       "  (1, 7),\n",
       "  (2, 2),\n",
       "  (3, 8),\n",
       "  (4, 1),\n",
       "  (5, 4),\n",
       "  (6, 6),\n",
       "  (7, 9),\n",
       "  (8, 3),\n",
       "  (9, 0)]}"
      ]
     },
     "execution_count": 12,
     "metadata": {},
     "output_type": "execute_result"
    }
   ],
   "source": [
    "clustering_stats"
   ]
  },
  {
   "cell_type": "code",
   "execution_count": 13,
   "id": "norwegian-budapest",
   "metadata": {},
   "outputs": [
    {
     "data": {
      "text/plain": [
       "tensor([9, 9, 9,  ..., 9, 8, 9])"
      ]
     },
     "execution_count": 13,
     "metadata": {},
     "output_type": "execute_result"
    }
   ],
   "source": [
    "predictions[0]['predictions'].cpu()"
   ]
  },
  {
   "cell_type": "code",
   "execution_count": 14,
   "id": "unauthorized-morgan",
   "metadata": {},
   "outputs": [],
   "source": [
    "np.save(f'{output_folder}/{dataset_name}_SCAN_cluster_ids.npy', predictions[0]['predictions'].cpu())"
   ]
  },
  {
   "cell_type": "code",
   "execution_count": null,
   "id": "original-jackson",
   "metadata": {},
   "outputs": [],
   "source": []
  }
 ],
 "metadata": {
  "kernelspec": {
   "display_name": "Python 3 (ipykernel)",
   "language": "python",
   "name": "python3"
  },
  "language_info": {
   "codemirror_mode": {
    "name": "ipython",
    "version": 3
   },
   "file_extension": ".py",
   "mimetype": "text/x-python",
   "name": "python",
   "nbconvert_exporter": "python",
   "pygments_lexer": "ipython3",
   "version": "3.9.6"
  }
 },
 "nbformat": 4,
 "nbformat_minor": 5
}