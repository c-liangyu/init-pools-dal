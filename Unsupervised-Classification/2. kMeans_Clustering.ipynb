{
 "cells": [
  {
   "cell_type": "markdown",
   "id": "stable-island",
   "metadata": {},
   "source": [
    "### Set GPU"
   ]
  },
  {
   "cell_type": "code",
   "execution_count": 1,
   "id": "cutting-subcommittee",
   "metadata": {},
   "outputs": [],
   "source": [
    "import os\n",
    "os.environ['CUDA_VISIBLE_DEVICES'] = \"3\""
   ]
  },
  {
   "cell_type": "markdown",
   "id": "australian-origin",
   "metadata": {},
   "source": [
    "### Set Dataset"
   ]
  },
  {
   "cell_type": "code",
   "execution_count": 2,
   "id": "limiting-qualification",
   "metadata": {},
   "outputs": [],
   "source": [
    "dataset_name = 'CIFAR10'\n",
    "# dataset_name = 'CIFAR100'\n",
    "# dataset_name = 'MNIST'\n",
    "# dataset_name = 'TINYIMAGENET'\n",
    "# dataset_name = 'IMBALANCED_CIFAR10'"
   ]
  },
  {
   "cell_type": "markdown",
   "id": "equipped-discount",
   "metadata": {},
   "source": [
    "### Num Classes"
   ]
  },
  {
   "cell_type": "code",
   "execution_count": 3,
   "id": "inside-health",
   "metadata": {},
   "outputs": [],
   "source": [
    "num_clusters = 10\n",
    "# num_clusters = 20\n",
    "# num_clusters = 200"
   ]
  },
  {
   "cell_type": "markdown",
   "id": "hundred-naples",
   "metadata": {},
   "source": [
    "### Run All "
   ]
  },
  {
   "cell_type": "code",
   "execution_count": 4,
   "id": "viral-watershed",
   "metadata": {},
   "outputs": [],
   "source": [
    "output_folder = '../results/'\n",
    "if dataset_name == \"CIFAR10\":\n",
    "    output_folder += 'cifar-10/'\n",
    "elif dataset_name == \"CIFAR100\":\n",
    "    output_folder += 'cifar-20/'\n",
    "elif dataset_name == \"MNIST\":\n",
    "    output_folder += 'mnist/'\n",
    "elif dataset_name == \"TINYIMAGENET\":\n",
    "    output_folder += 'tinyimagenet/'\n",
    "elif dataset_name == 'IMBALANCED_CIFAR10':\n",
    "    output_folder += 'imbalanced-cifar-10/'\n",
    "\n",
    "path_to_feat = f'{output_folder}/{dataset_name}_features128.npy'"
   ]
  },
  {
   "cell_type": "code",
   "execution_count": 5,
   "id": "outdoor-smile",
   "metadata": {},
   "outputs": [],
   "source": [
    "import torch\n",
    "import numpy as np\n",
    "from kmeans.kmeans_pytorch import kmeans"
   ]
  },
  {
   "cell_type": "code",
   "execution_count": 6,
   "id": "behavioral-astrology",
   "metadata": {},
   "outputs": [],
   "source": [
    "# data\n",
    "x = np.load(path_to_feat)\n",
    "x = torch.from_numpy(x)"
   ]
  },
  {
   "cell_type": "markdown",
   "id": "residential-album",
   "metadata": {},
   "source": [
    "## CPU (When memory isn't enough)"
   ]
  },
  {
   "cell_type": "code",
   "execution_count": 7,
   "id": "genetic-flush",
   "metadata": {},
   "outputs": [],
   "source": [
    "# from sklearn.cluster import KMeans\n",
    "\n",
    "# kmeans = KMeans(n_clusters=num_clusters, random_state=0).fit(x)\n",
    "# cluster_ids_x = torch.tensor(kmeans.labels_)"
   ]
  },
  {
   "cell_type": "markdown",
   "id": "planned-boxing",
   "metadata": {},
   "source": [
    "## GPU"
   ]
  },
  {
   "cell_type": "code",
   "execution_count": 8,
   "id": "norwegian-generic",
   "metadata": {},
   "outputs": [
    {
     "output_type": "stream",
     "name": "stdout",
     "text": [
      "running k-means on cuda:0..\n",
      "[running kmeans]: 82it [00:00, 207.87it/s, center_shift=0.000081, iteration=82, tol=0.000100]\n"
     ]
    }
   ],
   "source": [
    "# kmeans\n",
    "cluster_ids_x, cluster_centers = kmeans(\n",
    "    X=x, num_clusters=num_clusters, distance='euclidean', device=torch.device('cuda:0'))"
   ]
  },
  {
   "cell_type": "code",
   "execution_count": 9,
   "id": "clear-backing",
   "metadata": {},
   "outputs": [
    {
     "output_type": "execute_result",
     "data": {
      "text/plain": [
       "torch.Size([50000])"
      ]
     },
     "metadata": {},
     "execution_count": 9
    }
   ],
   "source": [
    "cluster_ids_x.shape"
   ]
  },
  {
   "cell_type": "code",
   "execution_count": 10,
   "id": "marine-armenia",
   "metadata": {},
   "outputs": [],
   "source": [
    "np.save(f'{output_folder}/{dataset_name}_kmeans_cluster_ids.npy', cluster_ids_x)"
   ]
  },
  {
   "cell_type": "code",
   "execution_count": 11,
   "metadata": {},
   "outputs": [
    {
     "output_type": "execute_result",
     "data": {
      "text/plain": [
       "tensor([2, 3, 1,  ..., 3, 9, 6])"
      ]
     },
     "metadata": {},
     "execution_count": 11
    }
   ],
   "source": [
    "cluster_ids_x"
   ]
  },
  {
   "cell_type": "code",
   "execution_count": 15,
   "metadata": {},
   "outputs": [
    {
     "output_type": "execute_result",
     "data": {
      "text/plain": [
       "torch.Size([10, 128])"
      ]
     },
     "metadata": {},
     "execution_count": 15
    }
   ],
   "source": [
    "cluster_centers.shape"
   ]
  },
  {
   "cell_type": "code",
   "execution_count": null,
   "metadata": {},
   "outputs": [],
   "source": []
  }
 ],
 "metadata": {
  "kernelspec": {
   "display_name": "Python 3 (ipykernel)",
   "language": "python",
   "name": "python3"
  },
  "language_info": {
   "codemirror_mode": {
    "name": "ipython",
    "version": 3
   },
   "file_extension": ".py",
   "mimetype": "text/x-python",
   "name": "python",
   "nbconvert_exporter": "python",
   "pygments_lexer": "ipython3",
   "version": "3.9.6"
  }
 },
 "nbformat": 4,
 "nbformat_minor": 5
}